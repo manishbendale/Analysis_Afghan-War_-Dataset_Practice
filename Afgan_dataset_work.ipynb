{
 "cells": [
  {
   "cell_type": "code",
   "execution_count": 1,
   "metadata": {},
   "outputs": [],
   "source": [
    "import pandas as pd"
   ]
  },
  {
   "cell_type": "code",
   "execution_count": 5,
   "metadata": {},
   "outputs": [
    {
     "data": {
      "text/html": [
       "<div>\n",
       "<style scoped>\n",
       "    .dataframe tbody tr th:only-of-type {\n",
       "        vertical-align: middle;\n",
       "    }\n",
       "\n",
       "    .dataframe tbody tr th {\n",
       "        vertical-align: top;\n",
       "    }\n",
       "\n",
       "    .dataframe thead th {\n",
       "        text-align: right;\n",
       "    }\n",
       "</style>\n",
       "<table border=\"1\" class=\"dataframe\">\n",
       "  <thead>\n",
       "    <tr style=\"text-align: right;\">\n",
       "      <th></th>\n",
       "      <th>Type</th>\n",
       "      <th>Category</th>\n",
       "      <th>Region</th>\n",
       "      <th>Attack on</th>\n",
       "    </tr>\n",
       "  </thead>\n",
       "  <tbody>\n",
       "    <tr>\n",
       "      <th>0</th>\n",
       "      <td>Enemy Action</td>\n",
       "      <td>Direct Fire</td>\n",
       "      <td>RC EAST</td>\n",
       "      <td>ENEMY</td>\n",
       "    </tr>\n",
       "    <tr>\n",
       "      <th>1</th>\n",
       "      <td>Friendly Action</td>\n",
       "      <td>Cache Found/Cleared</td>\n",
       "      <td>RC EAST</td>\n",
       "      <td>FRIEND</td>\n",
       "    </tr>\n",
       "    <tr>\n",
       "      <th>2</th>\n",
       "      <td>Non-Combat Event</td>\n",
       "      <td>Propaganda</td>\n",
       "      <td>RC SOUTH</td>\n",
       "      <td>NEUTRAL</td>\n",
       "    </tr>\n",
       "    <tr>\n",
       "      <th>3</th>\n",
       "      <td>Enemy Action</td>\n",
       "      <td>Direct Fire</td>\n",
       "      <td>RC EAST</td>\n",
       "      <td>ENEMY</td>\n",
       "    </tr>\n",
       "    <tr>\n",
       "      <th>4</th>\n",
       "      <td>Friendly Action</td>\n",
       "      <td>Cache Found/Cleared</td>\n",
       "      <td>RC EAST</td>\n",
       "      <td>FRIEND</td>\n",
       "    </tr>\n",
       "  </tbody>\n",
       "</table>\n",
       "</div>"
      ],
      "text/plain": [
       "               Type             Category    Region Attack on\n",
       "0      Enemy Action          Direct Fire   RC EAST     ENEMY\n",
       "1   Friendly Action  Cache Found/Cleared   RC EAST    FRIEND\n",
       "2  Non-Combat Event           Propaganda  RC SOUTH   NEUTRAL\n",
       "3      Enemy Action          Direct Fire   RC EAST     ENEMY\n",
       "4   Friendly Action  Cache Found/Cleared   RC EAST    FRIEND"
      ]
     },
     "execution_count": 5,
     "metadata": {},
     "output_type": "execute_result"
    }
   ],
   "source": [
    "afgan = pd.read_csv(\"afghan.csv\")\n",
    "afgan.head()"
   ]
  },
  {
   "cell_type": "markdown",
   "metadata": {},
   "source": [
    "## To examine all events that involve explosive hazards."
   ]
  },
  {
   "cell_type": "code",
   "execution_count": 8,
   "metadata": {},
   "outputs": [
    {
     "name": "stdout",
     "output_type": "stream",
     "text": [
      "total = 23082\n"
     ]
    },
    {
     "data": {
      "text/html": [
       "<div>\n",
       "<style scoped>\n",
       "    .dataframe tbody tr th:only-of-type {\n",
       "        vertical-align: middle;\n",
       "    }\n",
       "\n",
       "    .dataframe tbody tr th {\n",
       "        vertical-align: top;\n",
       "    }\n",
       "\n",
       "    .dataframe thead th {\n",
       "        text-align: right;\n",
       "    }\n",
       "</style>\n",
       "<table border=\"1\" class=\"dataframe\">\n",
       "  <thead>\n",
       "    <tr style=\"text-align: right;\">\n",
       "      <th></th>\n",
       "      <th>Type</th>\n",
       "      <th>Category</th>\n",
       "      <th>Region</th>\n",
       "      <th>Attack on</th>\n",
       "    </tr>\n",
       "  </thead>\n",
       "  <tbody>\n",
       "    <tr>\n",
       "      <th>13</th>\n",
       "      <td>Explosive Hazard</td>\n",
       "      <td>IED Explosion</td>\n",
       "      <td>RC SOUTH</td>\n",
       "      <td>ENEMY</td>\n",
       "    </tr>\n",
       "    <tr>\n",
       "      <th>15</th>\n",
       "      <td>Explosive Hazard</td>\n",
       "      <td>Mine Found/Cleared</td>\n",
       "      <td>RC EAST</td>\n",
       "      <td>ENEMY</td>\n",
       "    </tr>\n",
       "    <tr>\n",
       "      <th>16</th>\n",
       "      <td>Explosive Hazard</td>\n",
       "      <td>IED Explosion</td>\n",
       "      <td>RC SOUTH</td>\n",
       "      <td>ENEMY</td>\n",
       "    </tr>\n",
       "    <tr>\n",
       "      <th>18</th>\n",
       "      <td>Explosive Hazard</td>\n",
       "      <td>IED Found/Cleared</td>\n",
       "      <td>RC EAST</td>\n",
       "      <td>ENEMY</td>\n",
       "    </tr>\n",
       "    <tr>\n",
       "      <th>19</th>\n",
       "      <td>Explosive Hazard</td>\n",
       "      <td>IED Explosion</td>\n",
       "      <td>RC SOUTH</td>\n",
       "      <td>ENEMY</td>\n",
       "    </tr>\n",
       "  </tbody>\n",
       "</table>\n",
       "</div>"
      ],
      "text/plain": [
       "                Type            Category    Region Attack on\n",
       "13  Explosive Hazard       IED Explosion  RC SOUTH     ENEMY\n",
       "15  Explosive Hazard  Mine Found/Cleared   RC EAST     ENEMY\n",
       "16  Explosive Hazard       IED Explosion  RC SOUTH     ENEMY\n",
       "18  Explosive Hazard   IED Found/Cleared   RC EAST     ENEMY\n",
       "19  Explosive Hazard       IED Explosion  RC SOUTH     ENEMY"
      ]
     },
     "execution_count": 8,
     "metadata": {},
     "output_type": "execute_result"
    }
   ],
   "source": [
    "hazard = afgan[afgan['Type'] == 'Explosive Hazard']\n",
    "print('total =',len(hazard))\n",
    "hazard.head()"
   ]
  },
  {
   "cell_type": "markdown",
   "metadata": {},
   "source": [
    "## To examine explosive events that involve Improvised Explosive Devices (IEDs). "
   ]
  },
  {
   "cell_type": "code",
   "execution_count": 10,
   "metadata": {},
   "outputs": [
    {
     "data": {
      "text/plain": [
       "pandas.core.frame.DataFrame"
      ]
     },
     "execution_count": 10,
     "metadata": {},
     "output_type": "execute_result"
    }
   ],
   "source": [
    "type(hazard)"
   ]
  },
  {
   "cell_type": "code",
   "execution_count": 12,
   "metadata": {},
   "outputs": [
    {
     "name": "stdout",
     "output_type": "stream",
     "text": [
      "total = 7200\n"
     ]
    },
    {
     "data": {
      "text/html": [
       "<div>\n",
       "<style scoped>\n",
       "    .dataframe tbody tr th:only-of-type {\n",
       "        vertical-align: middle;\n",
       "    }\n",
       "\n",
       "    .dataframe tbody tr th {\n",
       "        vertical-align: top;\n",
       "    }\n",
       "\n",
       "    .dataframe thead th {\n",
       "        text-align: right;\n",
       "    }\n",
       "</style>\n",
       "<table border=\"1\" class=\"dataframe\">\n",
       "  <thead>\n",
       "    <tr style=\"text-align: right;\">\n",
       "      <th></th>\n",
       "      <th>Type</th>\n",
       "      <th>Category</th>\n",
       "      <th>Region</th>\n",
       "      <th>Attack on</th>\n",
       "    </tr>\n",
       "  </thead>\n",
       "  <tbody>\n",
       "    <tr>\n",
       "      <th>13</th>\n",
       "      <td>Explosive Hazard</td>\n",
       "      <td>IED Explosion</td>\n",
       "      <td>RC SOUTH</td>\n",
       "      <td>ENEMY</td>\n",
       "    </tr>\n",
       "    <tr>\n",
       "      <th>16</th>\n",
       "      <td>Explosive Hazard</td>\n",
       "      <td>IED Explosion</td>\n",
       "      <td>RC SOUTH</td>\n",
       "      <td>ENEMY</td>\n",
       "    </tr>\n",
       "    <tr>\n",
       "      <th>19</th>\n",
       "      <td>Explosive Hazard</td>\n",
       "      <td>IED Explosion</td>\n",
       "      <td>RC SOUTH</td>\n",
       "      <td>ENEMY</td>\n",
       "    </tr>\n",
       "    <tr>\n",
       "      <th>115</th>\n",
       "      <td>Explosive Hazard</td>\n",
       "      <td>IED Explosion</td>\n",
       "      <td>RC EAST</td>\n",
       "      <td>ENEMY</td>\n",
       "    </tr>\n",
       "    <tr>\n",
       "      <th>122</th>\n",
       "      <td>Explosive Hazard</td>\n",
       "      <td>IED Explosion</td>\n",
       "      <td>RC EAST</td>\n",
       "      <td>ENEMY</td>\n",
       "    </tr>\n",
       "  </tbody>\n",
       "</table>\n",
       "</div>"
      ],
      "text/plain": [
       "                 Type       Category    Region Attack on\n",
       "13   Explosive Hazard  IED Explosion  RC SOUTH     ENEMY\n",
       "16   Explosive Hazard  IED Explosion  RC SOUTH     ENEMY\n",
       "19   Explosive Hazard  IED Explosion  RC SOUTH     ENEMY\n",
       "115  Explosive Hazard  IED Explosion   RC EAST     ENEMY\n",
       "122  Explosive Hazard  IED Explosion   RC EAST     ENEMY"
      ]
     },
     "execution_count": 12,
     "metadata": {},
     "output_type": "execute_result"
    }
   ],
   "source": [
    "IED = hazard[hazard['Category'] == 'IED Explosion']\n",
    "print('total =',len(IED))\n",
    "IED.head()"
   ]
  },
  {
   "cell_type": "code",
   "execution_count": null,
   "metadata": {},
   "outputs": [],
   "source": []
  }
 ],
 "metadata": {
  "kernelspec": {
   "display_name": "Python 3",
   "language": "python",
   "name": "python3"
  },
  "language_info": {
   "codemirror_mode": {
    "name": "ipython",
    "version": 3
   },
   "file_extension": ".py",
   "mimetype": "text/x-python",
   "name": "python",
   "nbconvert_exporter": "python",
   "pygments_lexer": "ipython3",
   "version": "3.6.4"
  }
 },
 "nbformat": 4,
 "nbformat_minor": 2
}
